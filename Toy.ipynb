{
  "nbformat": 4,
  "nbformat_minor": 0,
  "metadata": {
    "colab": {
      "provenance": []
    },
    "kernelspec": {
      "name": "python3",
      "display_name": "Python 3"
    },
    "language_info": {
      "name": "python"
    }
  },
  "cells": [
    {
      "cell_type": "code",
      "execution_count": null,
      "metadata": {
        "colab": {
          "base_uri": "https://localhost:8080/"
        },
        "id": "RiXEJ-22jHZP",
        "outputId": "77d604d0-74ef-4cdd-e2fb-69af9d6521f8"
      },
      "outputs": [
        {
          "output_type": "stream",
          "name": "stdout",
          "text": [
            "Enter a choice (rock, paper, scissors): rock\n",
            "You chose rock, computer chose rock.\n",
            "It's a tie!\n"
          ]
        }
      ],
      "source": [
        "import random\n",
        "\n",
        "user_action = input(\"Enter a choice (rock, paper, scissors): \").lower()\n",
        "computer_action = random.choice([\"rock\", \"paper\", \"scissors\"])\n",
        "print(f\"You chose {user_action}, computer chose {computer_action}.\")\n",
        "\n",
        "if user_action == computer_action:\n",
        "    print(\"It's a tie!\")\n",
        "elif (user_action == \"rock\" and computer_action == \"scissors\") or \\\n",
        "     (user_action == \"paper\" and computer_action == \"rock\") or \\\n",
        "     (user_action == \"scissors\" and computer_action == \"paper\"):\n",
        "    print(\"You win!\")\n",
        "else:\n",
        "    print(\"You lose.\")"
      ]
    }
  ]
}